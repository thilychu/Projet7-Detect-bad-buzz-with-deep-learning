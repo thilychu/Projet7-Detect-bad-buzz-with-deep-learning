{
 "cells": [
  {
   "cell_type": "code",
   "execution_count": null,
   "id": "361eeb18",
   "metadata": {},
   "outputs": [],
   "source": [
    "import unittest\n",
    "import json\n",
    "from application import app\n",
    "import os\n",
    "# Add the path to the 'application' module folder\n",
    "application_folder = os.path.abspath(os.path.join(os.path.dirname(__file__), '..'))\n",
    "sys.path.append(application_folder)\n",
    "\n",
    "from application import app\n",
    "\n",
    "class FlaskAppTests(unittest.TestCase):\n",
    "\n",
    "    def setUp(self):\n",
    "        self.app = app.test_client()\n",
    "        self.sentimentAnalysisModel = SentimentAnalysisModel()\n",
    "\n",
    "    def test_home_page(self):\n",
    "        response = self.app.get('/')\n",
    "        self.assertEqual(response.status_code, 200)\n",
    "        self.assertIn(b'Welcome to the Sentiment Analysis App', response.data)\n",
    "\n",
    "    def test_prediction_positive(self):\n",
    "        test_data = {\n",
    "            'name': \"I am happy\"\n",
    "        }\n",
    "        expected_output = \"positive\"\n",
    "        response = self.app.post('/predict', data=test_data)\n",
    "        self.assertEqual(response.status_code, 200)\n",
    "        result = json.loads(response.data)['result']\n",
    "        if expected_output in result: st_result = expected_output\n",
    "        self.assertEqual(st_result, expected_output)\n",
    "        \n",
    "\n",
    "    def test_prediction_negative(self):\n",
    "        test_data = {\n",
    "            'name': \"I am sad\"\n",
    "        }\n",
    "        expected_output = \"negative\"\n",
    "        response = self.app.post('/predict', data=test_data)\n",
    "        self.assertEqual(response.status_code, 200)\n",
    "        result = json.loads(response.data)['result']\n",
    "        if expected_output in result: st_result = expected_output\n",
    "        self.assertEqual(st_result, expected_output)\n",
    "        \n",
    "if __name__ == '__main__':\n",
    "    unittest.main()"
   ]
  },
  {
   "cell_type": "code",
   "execution_count": 4,
   "id": "4b8ce99d",
   "metadata": {},
   "outputs": [
    {
     "name": "stdout",
     "output_type": "stream",
     "text": [
      "C:\\Users\\doly9\\Projet7-Detect-bad-buzz-with-deep-learning\n"
     ]
    },
    {
     "ename": "ModuleNotFoundError",
     "evalue": "No module named 'application'",
     "output_type": "error",
     "traceback": [
      "\u001b[1;31m---------------------------------------------------------------------------\u001b[0m",
      "\u001b[1;31mModuleNotFoundError\u001b[0m                       Traceback (most recent call last)",
      "Cell \u001b[1;32mIn[4], line 9\u001b[0m\n\u001b[0;32m      7\u001b[0m \u001b[38;5;28mprint\u001b[39m(application_folder)\n\u001b[0;32m      8\u001b[0m sys\u001b[38;5;241m.\u001b[39mpath\u001b[38;5;241m.\u001b[39mappend(application_folder)\n\u001b[1;32m----> 9\u001b[0m \u001b[38;5;28;01mfrom\u001b[39;00m \u001b[38;5;21;01mapplication\u001b[39;00m \u001b[38;5;28;01mimport\u001b[39;00m app\n",
      "\u001b[1;31mModuleNotFoundError\u001b[0m: No module named 'application'"
     ]
    }
   ],
   "source": [
    "import unittest\n",
    "import json\n",
    "import os\n",
    "import sys\n",
    "# Add the path to the 'application' module folder\n",
    "application_folder = os.path.abspath(os.path.join(os.path.dirname(\"\"), '..'))\n",
    "print(application_folder)\n",
    "sys.path.append(application_folder)\n",
    "from application import app"
   ]
  },
  {
   "cell_type": "code",
   "execution_count": null,
   "id": "136faefb",
   "metadata": {},
   "outputs": [],
   "source": []
  }
 ],
 "metadata": {
  "kernelspec": {
   "display_name": "envproject7_tf12",
   "language": "python",
   "name": "envproject7_tf12"
  },
  "language_info": {
   "codemirror_mode": {
    "name": "ipython",
    "version": 3
   },
   "file_extension": ".py",
   "mimetype": "text/x-python",
   "name": "python",
   "nbconvert_exporter": "python",
   "pygments_lexer": "ipython3",
   "version": "3.11.3"
  }
 },
 "nbformat": 4,
 "nbformat_minor": 5
}
