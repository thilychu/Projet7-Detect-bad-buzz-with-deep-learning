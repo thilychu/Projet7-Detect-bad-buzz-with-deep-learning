{
 "cells": [
  {
   "cell_type": "markdown",
   "id": "1aa4a6d1",
   "metadata": {},
   "source": [
    "# Implémentation un moteur d’inférence API . \n",
    "L'objectif de l’API est de renvoyer le sentiment à réception d’un texte brut 'API ."
   ]
  },
  {
   "cell_type": "code",
   "execution_count": 1,
   "id": "667f86fa",
   "metadata": {},
   "outputs": [],
   "source": [
    "import os\n",
    "import re\n",
    "import string\n",
    "import joblib\n",
    "import pickle\n",
    "import flask\n",
    "from flask import Flask, jsonify, request, render_template\n",
    "from tensorflow import keras\n",
    "from tensorflow.keras.preprocessing.sequence import pad_sequences"
   ]
  },
  {
   "cell_type": "code",
   "execution_count": 2,
   "id": "f10c4695",
   "metadata": {},
   "outputs": [],
   "source": [
    "# remove special characters\n",
    "def remove_special_characters(text):\n",
    "    #Removing numerical values, Removing Digits and words containing digits\n",
    "    text= re.sub('\\w*\\d\\w*','', text)\n",
    "    #Removing punctations\n",
    "    text= re.sub('[%s]' % re.escape(string.punctuation), '', text)\n",
    "    #Removing Extra Spaces\n",
    "    text =re.sub(' +', ' ',text)\n",
    "    # remove stock market tickers like $GE\n",
    "    text = re.sub(r'\\$\\w*', '',text)\n",
    "    # remove old style retweet text \"RT\"\n",
    "    text = re.sub(r'^RT[\\s]+', '',text)\n",
    "    # remove hyperlinks\n",
    "    text = re.sub(r'https?:\\/\\/.*[\\r\\n]*', '',text)\n",
    "    # remove hashtags\n",
    "    # only removing the hash # sign from the word\n",
    "    text = re.sub(r'#', '',text)\n",
    "    text = text.lower()\n",
    "\n",
    "    return text\n",
    "\n",
    "def tokenize_stopwords_lemmatize(texts, allowed_postags=['NOUN','ADJ','ADV']):\n",
    "    tokenized_docs = texts.apply(lambda x: ' '.join([token.lemma_.lower() for token in list(nlp(x)) if token.is_alpha and not token.is_stop]))\n",
    "    return tokenized_docs\n",
    "\n",
    "def encode_text(text):\n",
    "    sequence = tokenizer.texts_to_sequences([text])\n",
    "    padded_test_sequence = pad_sequences(sequence, maxlen=30)\n",
    "    print(padded_test_sequence)\n",
    "    return padded_test_sequence"
   ]
  },
  {
   "cell_type": "code",
   "execution_count": 3,
   "id": "0fabf459",
   "metadata": {
    "scrolled": true
   },
   "outputs": [
    {
     "ename": "NameError",
     "evalue": "name 'eras' is not defined",
     "output_type": "error",
     "traceback": [
      "\u001b[1;31m---------------------------------------------------------------------------\u001b[0m",
      "\u001b[1;31mNameError\u001b[0m                                 Traceback (most recent call last)",
      "Cell \u001b[1;32mIn[3], line 12\u001b[0m\n\u001b[0;32m     10\u001b[0m     \u001b[38;5;28;01mdef\u001b[39;00m \u001b[38;5;21m__init__\u001b[39m(\u001b[38;5;28mself\u001b[39m):\n\u001b[0;32m     11\u001b[0m         \u001b[38;5;28mself\u001b[39m\u001b[38;5;241m.\u001b[39mmodel \u001b[38;5;241m=\u001b[39m eras\u001b[38;5;241m.\u001b[39mmodels\u001b[38;5;241m.\u001b[39mload_model(\u001b[38;5;124m\"\u001b[39m\u001b[38;5;124minput_app/words2vec_lstm_epoch_50.h5\u001b[39m\u001b[38;5;124m\"\u001b[39m)\n\u001b[1;32m---> 12\u001b[0m model \u001b[38;5;241m=\u001b[39m \u001b[43mSentimentAnalysisModel\u001b[49m\u001b[43m(\u001b[49m\u001b[43m)\u001b[49m\n",
      "Cell \u001b[1;32mIn[3], line 11\u001b[0m, in \u001b[0;36mSentimentAnalysisModel.__init__\u001b[1;34m(self)\u001b[0m\n\u001b[0;32m     10\u001b[0m \u001b[38;5;28;01mdef\u001b[39;00m \u001b[38;5;21m__init__\u001b[39m(\u001b[38;5;28mself\u001b[39m):\n\u001b[1;32m---> 11\u001b[0m     \u001b[38;5;28mself\u001b[39m\u001b[38;5;241m.\u001b[39mmodel \u001b[38;5;241m=\u001b[39m \u001b[43meras\u001b[49m\u001b[38;5;241m.\u001b[39mmodels\u001b[38;5;241m.\u001b[39mload_model(\u001b[38;5;124m\"\u001b[39m\u001b[38;5;124minput_app/words2vec_lstm_epoch_50.h5\u001b[39m\u001b[38;5;124m\"\u001b[39m)\n",
      "\u001b[1;31mNameError\u001b[0m: name 'eras' is not defined"
     ]
    }
   ],
   "source": [
    "# initialize our Flask application and the Keras model\n",
    "app = flask.Flask(__name__)\n",
    "\n",
    "# Load tokenizer\n",
    "with open('input_app/tokenizer.pickle', 'rb') as in_file:\n",
    "    tokenizer = pickle.load(in_file)\n",
    "    \n",
    "# Load model\n",
    "class SentimentAnalysisModel:\n",
    "    def __init__(self):\n",
    "        self.model = keras.models.load_model(\"input_app/words2vec_lstm_epoch_50.h5\")\n",
    "model = SentimentAnalysisModel()"
   ]
  },
  {
   "cell_type": "code",
   "execution_count": null,
   "id": "1180d081",
   "metadata": {},
   "outputs": [],
   "source": [
    "@app.route('/') # default route\n",
    "def new():\n",
    "    return render_template('index.html') # "
   ]
  },
  {
   "cell_type": "code",
   "execution_count": null,
   "id": "ea8eb5d6",
   "metadata": {},
   "outputs": [],
   "source": [
    "@app.route('/predict', methods = ['POST']) # /result route\n",
    "def predict():\n",
    "    text = request.form['name']\n",
    "    cleaned_text = remove_special_characters(text)\n",
    "    encoded_text = encode_text(cleaned_text)\n",
    "    result = model.predict(encoded_text)[0][0]\n",
    "    \n",
    "    if result>0.5:\n",
    "        result=\"The sentiment of this text is \"+str(int(result*100))+\"% positive\"\n",
    "    else:\n",
    "        result=\"The sentiment of this text is \"+str(int((1-result)*100))+\"% negative\"\n",
    "\n",
    "    return jsonify(result = result)"
   ]
  },
  {
   "cell_type": "code",
   "execution_count": null,
   "id": "ca16f3a4",
   "metadata": {
    "scrolled": false
   },
   "outputs": [],
   "source": [
    "if __name__ == '__main__':\n",
    "    #load_model()\n",
    "    app.run(debug=True,use_reloader=False, port=8000)"
   ]
  }
 ],
 "metadata": {
  "kernelspec": {
   "display_name": "envproject7_tf12",
   "language": "python",
   "name": "envproject7_tf12"
  },
  "language_info": {
   "codemirror_mode": {
    "name": "ipython",
    "version": 3
   },
   "file_extension": ".py",
   "mimetype": "text/x-python",
   "name": "python",
   "nbconvert_exporter": "python",
   "pygments_lexer": "ipython3",
   "version": "3.11.3"
  }
 },
 "nbformat": 4,
 "nbformat_minor": 5
}
