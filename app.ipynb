{
 "cells": [
  {
   "cell_type": "code",
   "execution_count": 4,
   "id": "b7a03d49",
   "metadata": {},
   "outputs": [
    {
     "name": "stdout",
     "output_type": "stream",
     "text": [
      " * Serving Flask app '__main__'\n",
      " * Debug mode: on\n"
     ]
    },
    {
     "name": "stderr",
     "output_type": "stream",
     "text": [
      "[nltk_data] Downloading package punkt to\n",
      "[nltk_data]     C:\\Users\\doly9\\AppData\\Roaming\\nltk_data...\n",
      "[nltk_data]   Package punkt is already up-to-date!\n",
      "WARNING: This is a development server. Do not use it in a production deployment. Use a production WSGI server instead.\n",
      " * Running on http://127.0.0.1:8000\n",
      "Press CTRL+C to quit\n",
      "127.0.0.1 - - [26/May/2023 14:36:18] \"GET / HTTP/1.1\" 200 -\n",
      "127.0.0.1 - - [26/May/2023 14:36:22] \"POST /predict HTTP/1.1\" 200 -\n"
     ]
    }
   ],
   "source": [
    "from flask import Flask, render_template, request, jsonify\n",
    "from textblob import TextBlob\n",
    "import nltk\n",
    "nltk.download('punkt')\n",
    "\n",
    "app = Flask(__name__)\n",
    "\n",
    "@app.route('/') # default route\n",
    "def new():\n",
    "    return render_template('index.html') # \n",
    "@app.route('/predict', methods = ['POST']) # /result route\n",
    "def predict():\n",
    "    name = request.form['name']\n",
    "    blob = TextBlob(name)\n",
    "    for sentence in blob.sentences:\n",
    "        result = sentence.sentiment.polarity\n",
    "    if result>0:\n",
    "        result=str(int(result*100))+\"% Positive\"\n",
    "    elif result<0:\n",
    "        result=str(int(abs(result)*100))+\"% Negative\"\n",
    "    else:\n",
    "        result=\"Neutral\" # result = polarity value\n",
    "    return jsonify(result = result)\n",
    "if __name__ == '__main__':\n",
    "    app.run(debug=True,use_reloader=False, port=8000)"
   ]
  },
  {
   "cell_type": "code",
   "execution_count": null,
   "id": "c959efb4",
   "metadata": {},
   "outputs": [],
   "source": []
  }
 ],
 "metadata": {
  "kernelspec": {
   "display_name": "envproject7_tf12",
   "language": "python",
   "name": "envproject7_tf12"
  },
  "language_info": {
   "codemirror_mode": {
    "name": "ipython",
    "version": 3
   },
   "file_extension": ".py",
   "mimetype": "text/x-python",
   "name": "python",
   "nbconvert_exporter": "python",
   "pygments_lexer": "ipython3",
   "version": "3.11.3"
  }
 },
 "nbformat": 4,
 "nbformat_minor": 5
}
