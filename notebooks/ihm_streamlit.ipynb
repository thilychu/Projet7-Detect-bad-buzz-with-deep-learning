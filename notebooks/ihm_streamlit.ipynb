{
 "cells": [
  {
   "cell_type": "markdown",
   "id": "c5c4382f",
   "metadata": {},
   "source": [
    "# Implémentation d'une interface utilisateur (IHM) locale avec Streamlit pour appeler l'API via son URI\n"
   ]
  },
  {
   "cell_type": "code",
   "execution_count": null,
   "id": "e9fe9ece",
   "metadata": {},
   "outputs": [],
   "source": [
    "import streamlit as st\n",
    "import requests"
   ]
  },
  {
   "cell_type": "code",
   "execution_count": 6,
   "id": "ad12d815",
   "metadata": {},
   "outputs": [],
   "source": [
    "# Define the API endpoint URL\n",
    "API_URL = \"http://127.0.0.1:8000/predict\"\n",
    "\n",
    "# Define a function to make API requests\n",
    "def get_prediction(text):\n",
    "    # Define the input data as a dictionary\n",
    "    #data = {'text': text}\n",
    "    \n",
    "    # Send a POST request to the API endpoint with the input data\n",
    "    response = requests.post(API_URL, json=text)\n",
    "    \n",
    "    # Parse the response JSON data\n",
    "    result = response.json()\n",
    "    \n",
    "    # Return the predicted sentiment\n",
    "    return result"
   ]
  },
  {
   "cell_type": "code",
   "execution_count": 7,
   "id": "b4c7fcdd",
   "metadata": {},
   "outputs": [],
   "source": [
    "# Define the Streamlit app\n",
    "def app():\n",
    "    # Define the app title\n",
    "    st.title(\"Sentiment Analysis\")\n",
    "    \n",
    "    # Define the input text box\n",
    "    text = st.text_input(\"Enter some text\")\n",
    "    \n",
    "    # Define the predict button\n",
    "    if st.button(\"Predict\"):\n",
    "        # Make a request to the API with the input text\n",
    "        sentiment = get_prediction(text)\n",
    "        \n",
    "        # Display the predicted sentiment\n",
    "        st.write(\"The sentiment is:\", sentiment)"
   ]
  },
  {
   "cell_type": "code",
   "execution_count": 8,
   "id": "e391cdb6",
   "metadata": {},
   "outputs": [],
   "source": [
    "# Run the Streamlit app\n",
    "if __name__ == '__main__':\n",
    "    app()"
   ]
  },
  {
   "cell_type": "code",
   "execution_count": null,
   "id": "ce844af7",
   "metadata": {},
   "outputs": [],
   "source": []
  }
 ],
 "metadata": {
  "kernelspec": {
   "display_name": "envproject7_tf12",
   "language": "python",
   "name": "envproject7_tf12"
  },
  "language_info": {
   "codemirror_mode": {
    "name": "ipython",
    "version": 3
   },
   "file_extension": ".py",
   "mimetype": "text/x-python",
   "name": "python",
   "nbconvert_exporter": "python",
   "pygments_lexer": "ipython3",
   "version": "3.11.3"
  }
 },
 "nbformat": 4,
 "nbformat_minor": 5
}
