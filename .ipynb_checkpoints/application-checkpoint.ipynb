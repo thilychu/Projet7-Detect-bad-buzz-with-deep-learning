{
 "cells": [
  {
   "cell_type": "markdown",
   "id": "1aa4a6d1",
   "metadata": {},
   "source": [
    "# Implémentation un moteur d’inférence API . \n",
    "L'objectif de l’API est de renvoyer le sentiment à réception d’un texte brut 'API ."
   ]
  },
  {
   "cell_type": "code",
   "execution_count": 1,
   "id": "667f86fa",
   "metadata": {},
   "outputs": [],
   "source": [
    "import os\n",
    "import re\n",
    "import string\n",
    "import joblib\n",
    "import pandas as pd\n",
    "import flask\n",
    "from flask import Flask, jsonify, request\n",
    "from tensorflow import keras\n",
    "from tensorflow.keras.preprocessing.sequence import pad_sequences\n",
    "from keras.preprocessing.text import Tokenizer, text_to_word_sequence"
   ]
  },
  {
   "cell_type": "code",
   "execution_count": 2,
   "id": "0fabf459",
   "metadata": {
    "scrolled": true
   },
   "outputs": [
    {
     "name": "stderr",
     "output_type": "stream",
     "text": [
      "C:\\Users\\doly9\\Anaconda3\\envs\\envproject7_tf12\\Lib\\site-packages\\keras\\preprocessing\\text.py:246: UserWarning: The `nb_words` argument in `Tokenizer` has been renamed `num_words`.\n",
      "  warnings.warn(\n"
     ]
    },
    {
     "name": "stdout",
     "output_type": "stream",
     "text": [
      "Model: \"word2vec_lstm\"\n",
      "_________________________________________________________________\n",
      " Layer (type)                Output Shape              Param #   \n",
      "=================================================================\n",
      " embedding (Embedding)       (None, None, 100)         69783500  \n",
      "                                                                 \n",
      " lstm_1 (LSTM)               (None, 100)               80400     \n",
      "                                                                 \n",
      " dense_2 (Dense)             (None, 50)                5050      \n",
      "                                                                 \n",
      " dense_3 (Dense)             (None, 1)                 51        \n",
      "                                                                 \n",
      "=================================================================\n",
      "Total params: 69,869,001\n",
      "Trainable params: 85,501\n",
      "Non-trainable params: 69,783,500\n",
      "_________________________________________________________________\n",
      "None\n"
     ]
    }
   ],
   "source": [
    "# initialize our Flask application and the Keras model\n",
    "app = flask.Flask(__name__)\n",
    "\n",
    "# Load data\n",
    "df = pd.read_csv('input_app/df_cleaned_docs.csv',encoding='ISO-8859-1')\n",
    "\n",
    "# tokenizer\n",
    "tokenizer = Tokenizer(nb_words=14225)\n",
    "tokenizer.fit_on_texts( df['clean_text'])\n",
    "\n",
    "\n",
    "# Load model\n",
    "model = keras.models.load_model(\"input_app/word2vec_lstm_epoch_30.h5\")\n",
    "print(model.summary())"
   ]
  },
  {
   "cell_type": "code",
   "execution_count": 3,
   "id": "906eb4ce",
   "metadata": {},
   "outputs": [],
   "source": [
    "@app.route('/', methods=['GET'])\n",
    "def ping():\n",
    "    return 'Hello, World!'\n"
   ]
  },
  {
   "cell_type": "markdown",
   "id": "eb6f51a9",
   "metadata": {},
   "source": [
    "# load the pre-trained Keras model\n",
    "def load_model():\n",
    "    path_file = \"C:/Users/doly9/Projet7-Detect-bad-buzz-with-deep-learning/saved_models/word2vec_lstm_epoch_30.h5\"\n",
    "    model = keras.models.load_model(path_file)\n",
    "    print(model.summary())"
   ]
  },
  {
   "cell_type": "code",
   "execution_count": 4,
   "id": "9469baf3",
   "metadata": {},
   "outputs": [],
   "source": [
    "# remove special characters\n",
    "def remove_special_characters(text):\n",
    "    #Removing numerical values, Removing Digits and words containing digits\n",
    "    text= re.sub('\\w*\\d\\w*','', text)\n",
    "    #Removing punctations\n",
    "    text= re.sub('[%s]' % re.escape(string.punctuation), '', text)\n",
    "    #Removing Extra Spaces\n",
    "    text =re.sub(' +', ' ',text)\n",
    "    # remove stock market tickers like $GE\n",
    "    text = re.sub(r'\\$\\w*', '',text)\n",
    "    # remove old style retweet text \"RT\"\n",
    "    text = re.sub(r'^RT[\\s]+', '',text)\n",
    "    # remove hyperlinks\n",
    "    text = re.sub(r'https?:\\/\\/.*[\\r\\n]*', '',text)\n",
    "    # remove hashtags\n",
    "    # only removing the hash # sign from the word\n",
    "    text = re.sub(r'#', '',text)\n",
    "    text = text.lower()\n",
    "\n",
    "    return text\n",
    "\n",
    "def tokenize_stopwords_lemmatize(texts, allowed_postags=['NOUN','ADJ','ADV']):\n",
    "    tokenized_docs = texts.apply(lambda x: ' '.join([token.lemma_.lower() for token in list(nlp(x)) if token.is_alpha and not token.is_stop]))\n",
    "    return tokenized_docs\n",
    "\n",
    "def encode_text(text):\n",
    "    #tokenizer = Tokenizer(nb_words=14225)\n",
    "    #tokenizer.fit_on_texts([text])\n",
    "    #sequence = tokenizer.texts_to_sequences([text])[0]\n",
    "    sequence = tokenizer.texts_to_sequences([text])\n",
    "    padded_test_sequence = pad_sequences(sequence, maxlen=30)\n",
    "    print(padded_test_sequence)\n",
    "    return padded_test_sequence"
   ]
  },
  {
   "cell_type": "code",
   "execution_count": 5,
   "id": "5de9c97d",
   "metadata": {},
   "outputs": [],
   "source": [
    "@app.route('/predict', methods=['POST'])\n",
    "\n",
    "def predict():\n",
    "    #global model\n",
    "    data = request.get_json(force=True)\n",
    "    text = data['text']\n",
    "    #print(text)\n",
    "    cleaned_text = remove_special_characters(text)\n",
    "    encoded_text = encode_text(cleaned_text)\n",
    "    predict_output = model.predict(encoded_text)[0][0]\n",
    "    \n",
    "    if predict_output>0.5:\n",
    "        output = {'result of model': \"The sentiment of this text is positive, with a polarity score of {0:.2f}\".format(predict_output)}\n",
    "    else:\n",
    "        output = {'result of model': \"The sentiment of this text is negative, with a polarity score of {0:.2f}\".format(predict_output)}\n",
    "\n",
    "    \n",
    "    return jsonify(output)"
   ]
  },
  {
   "cell_type": "markdown",
   "id": "01c557aa",
   "metadata": {},
   "source": [
    "@app.route('/predict', methods=['POST'])\n",
    "def predict():\n",
    "    data = request.get_json(force=True)\n",
    "    text = data['text']\n",
    "    #text = request.get_data()\n",
    "    print(\"raw text\", text)\n",
    "    cleaned_text = remove_special_characters(text)\n",
    "    #print(cleaned_text)\n",
    "    encoded_text = encode_text(cleaned_text)\n",
    "    #print(encoded_text)\n",
    "    predict_output = model.predict(encoded_text)[0][0]\n",
    "    if predict_output>0.5:\n",
    "        output = \"The sentiment of this text is positive, with a polarity score of {0:.2f}\".format(predict_output)\n",
    "    else:\n",
    "        output = \"The sentiment of this text is positive, with a polarity score of {0:.2f}\".format(predict_output)\n",
    "\n",
    "    return output"
   ]
  },
  {
   "cell_type": "code",
   "execution_count": null,
   "id": "ca16f3a4",
   "metadata": {
    "scrolled": false
   },
   "outputs": [
    {
     "name": "stdout",
     "output_type": "stream",
     "text": [
      " * Serving Flask app '__main__'\n",
      " * Debug mode: on\n"
     ]
    },
    {
     "name": "stderr",
     "output_type": "stream",
     "text": [
      "WARNING: This is a development server. Do not use it in a production deployment. Use a production WSGI server instead.\n",
      " * Running on http://127.0.0.1:8000\n",
      "Press CTRL+C to quit\n"
     ]
    },
    {
     "name": "stdout",
     "output_type": "stream",
     "text": [
      "[[0 0 0 0 0 0 0 0 0 0 0 0 0 0 0 0 0 0 0 0 0 0 0 0 0 0 0 0 0 4]]\n",
      "1/1 [==============================] - 1s 586ms/step\n"
     ]
    },
    {
     "name": "stderr",
     "output_type": "stream",
     "text": [
      "127.0.0.1 - - [21/May/2023 17:32:06] \"POST /predict HTTP/1.1\" 200 -\n"
     ]
    },
    {
     "name": "stdout",
     "output_type": "stream",
     "text": [
      "[[0 0 0 0 0 0 0 0 0 0 0 0 0 0 0 0 0 0 0 0 0 0 0 0 0 0 0 0 0 4]]\n",
      "1/1 [==============================] - 0s 22ms/step\n"
     ]
    },
    {
     "name": "stderr",
     "output_type": "stream",
     "text": [
      "127.0.0.1 - - [21/May/2023 17:35:18] \"POST /predict HTTP/1.1\" 200 -\n"
     ]
    },
    {
     "name": "stdout",
     "output_type": "stream",
     "text": [
      "[[ 0  0  0  0  0  0  0  0  0  0  0  0  0  0  0  0  0  0  0  0  0  0  0  0\n",
      "   0  0  0  0  0 37]]\n",
      "1/1 [==============================] - 0s 23ms/step\n"
     ]
    },
    {
     "name": "stderr",
     "output_type": "stream",
     "text": [
      "127.0.0.1 - - [21/May/2023 17:35:37] \"POST /predict HTTP/1.1\" 200 -\n"
     ]
    }
   ],
   "source": [
    "if __name__ == '__main__':\n",
    "    #load_model()\n",
    "    app.run(debug=True,use_reloader=False, port=8000)"
   ]
  },
  {
   "cell_type": "code",
   "execution_count": null,
   "id": "42523859",
   "metadata": {},
   "outputs": [],
   "source": []
  },
  {
   "cell_type": "code",
   "execution_count": null,
   "id": "f9b89aa9",
   "metadata": {},
   "outputs": [],
   "source": []
  },
  {
   "cell_type": "code",
   "execution_count": null,
   "id": "552135b8",
   "metadata": {},
   "outputs": [],
   "source": []
  }
 ],
 "metadata": {
  "kernelspec": {
   "display_name": "envproject7_tf12",
   "language": "python",
   "name": "envproject7_tf12"
  },
  "language_info": {
   "codemirror_mode": {
    "name": "ipython",
    "version": 3
   },
   "file_extension": ".py",
   "mimetype": "text/x-python",
   "name": "python",
   "nbconvert_exporter": "python",
   "pygments_lexer": "ipython3",
   "version": "3.11.3"
  }
 },
 "nbformat": 4,
 "nbformat_minor": 5
}
